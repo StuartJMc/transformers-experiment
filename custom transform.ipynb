{
 "cells": [
  {
   "cell_type": "code",
   "execution_count": 1,
   "metadata": {},
   "outputs": [],
   "source": [
    "import xgboost\n",
    "import shap\n",
    "import matplotlib.pyplot as plt\n",
    "import lightgbm as lgb\n",
    "import pandas as pd\n",
    "import numpy as np\n",
    "import mlflow\n",
    "import joblib\n",
    "import pickle\n",
    "from feature_engine.creation import RelativeFeatures\n",
    "import uuid\n",
    "from optbinning import BinningProcess\n",
    "from sklearn.compose import ColumnTransformer\n",
    "from sklearn.pipeline import Pipeline\n",
    "import scipy\n",
    "import statsmodels.api as sm\n",
    "from scipy.interpolate import interp1d\n",
    "from scipy.special import logit\n",
    "from scipy.interpolate import UnivariateSpline\n",
    "\n",
    "\n",
    "\n",
    "from sklearn.metrics import mean_squared_error, mean_absolute_error, r2_score,f1_score,roc_auc_score,accuracy_score,precision_score,recall_score\n",
    "from sklearn.model_selection import train_test_split\n",
    "from sklearn.linear_model import ElasticNet\n",
    "from sklearn.linear_model import LogisticRegression\n",
    "from sklearn.base import BaseEstimator, TransformerMixin\n"
   ]
  },
  {
   "cell_type": "code",
   "execution_count": 2,
   "metadata": {},
   "outputs": [],
   "source": [
    "from helpers.evaluate import train_and_test,eval_metrics\n",
    "from helpers.transformers import OptbinningScikit,LowessTransformer"
   ]
  },
  {
   "cell_type": "code",
   "execution_count": 3,
   "metadata": {},
   "outputs": [],
   "source": [
    "#mlflow.create_experiment('logreg',artifact_location='models')"
   ]
  },
  {
   "cell_type": "code",
   "execution_count": 4,
   "metadata": {},
   "outputs": [],
   "source": [
    "X,y = shap.datasets.adult()\n",
    "X_display,y_display = shap.datasets.adult(display=True)\n",
    "\n",
    "X_train,X_test,y_train,y_test=train_test_split(X_display,y_display,test_size=0.2,random_state=0)\n",
    "\n",
    "features=X_display.columns.to_list()\n",
    "cat_cols=X_display.select_dtypes(include='category').columns.to_list()\n",
    "num_cols=[col for col in features if col not in cat_cols]"
   ]
  },
  {
   "cell_type": "code",
   "execution_count": null,
   "metadata": {},
   "outputs": [],
   "source": [
    "\n",
    "logreg=LogisticRegression()\n"
   ]
  },
  {
   "cell_type": "code",
   "execution_count": null,
   "metadata": {},
   "outputs": [
    {
     "name": "stderr",
     "output_type": "stream",
     "text": [
      "lbfgs failed to converge (status=1):\n",
      "STOP: TOTAL NO. of ITERATIONS REACHED LIMIT.\n",
      "\n",
      "Increase the number of iterations (max_iter) or scale the data as shown in:\n",
      "    https://scikit-learn.org/stable/modules/preprocessing.html\n",
      "Please also refer to the documentation for alternative solver options:\n",
      "    https://scikit-learn.org/stable/modules/linear_model.html#logistic-regression\n"
     ]
    },
    {
     "name": "stdout",
     "output_type": "stream",
     "text": [
      "{'roc_auc': 0.8270419200913794, 'accuracy': 0.7979425763856901, 'recall': 0.3799373040752351, 'precision': 0.6495176848874598}\n"
     ]
    }
   ],
   "source": [
    "train_and_test(logreg,X,y,'3',desc='logreg')"
   ]
  },
  {
   "cell_type": "code",
   "execution_count": null,
   "metadata": {},
   "outputs": [],
   "source": [
    "opt_cat_logreg=Pipeline([('opt',\n",
    "ColumnTransformer([\n",
    "     \n",
    "          (\"text_preprocess\", OptbinningScikit(),cat_cols)],\n",
    "      remainder='passthrough',verbose_feature_names_out=False)),\n",
    "      ('logreg',LogisticRegression())\n",
    "      ])"
   ]
  },
  {
   "cell_type": "code",
   "execution_count": null,
   "metadata": {},
   "outputs": [
    {
     "name": "stdout",
     "output_type": "stream",
     "text": [
      "{'roc_auc': 0.8703866291188024, 'accuracy': 0.8314140948871488, 'recall': 0.6037617554858934, 'precision': 0.6738978306508048}\n"
     ]
    },
    {
     "name": "stderr",
     "output_type": "stream",
     "text": [
      "lbfgs failed to converge (status=1):\n",
      "STOP: TOTAL NO. of ITERATIONS REACHED LIMIT.\n",
      "\n",
      "Increase the number of iterations (max_iter) or scale the data as shown in:\n",
      "    https://scikit-learn.org/stable/modules/preprocessing.html\n",
      "Please also refer to the documentation for alternative solver options:\n",
      "    https://scikit-learn.org/stable/modules/linear_model.html#logistic-regression\n"
     ]
    }
   ],
   "source": [
    "train_and_test(opt_cat_logreg,X_display,y_display,'3',desc='opt_cat_logreg')"
   ]
  },
  {
   "cell_type": "code",
   "execution_count": 3,
   "metadata": {},
   "outputs": [],
   "source": [
    "opt_logreg=Pipeline([('opt', OptbinningScikit()),\n",
    "      ('logreg',LogisticRegression())\n",
    "      ])"
   ]
  },
  {
   "cell_type": "code",
   "execution_count": 12,
   "metadata": {},
   "outputs": [
    {
     "name": "stdout",
     "output_type": "stream",
     "text": [
      "{'roc_auc': 0.901796101838171, 'accuracy': 0.8456932289267619, 'recall': 0.5749216300940438, 'precision': 0.7371382636655949}\n"
     ]
    }
   ],
   "source": [
    "train_and_test(opt_logreg,X_display,y_display,'3',desc='opt_cat_logreg')"
   ]
  },
  {
   "cell_type": "code",
   "execution_count": 5,
   "metadata": {},
   "outputs": [],
   "source": [
    "opt_cat_lowess_num_logreg=Pipeline([('opt',\n",
    "ColumnTransformer([\n",
    "     \n",
    "          (\"text_preprocess\", OptbinningScikit(),cat_cols),\n",
    "          ('num_process',LowessTransformer(fit_spline=False),num_cols)],\n",
    "      remainder='passthrough',verbose_feature_names_out=False)),\n",
    "      ('logreg',LogisticRegression())\n",
    "      ])"
   ]
  },
  {
   "cell_type": "code",
   "execution_count": 6,
   "metadata": {},
   "outputs": [
    {
     "name": "stderr",
     "output_type": "stream",
     "text": [
      "invalid value encountered in divide\n"
     ]
    },
    {
     "name": "stdout",
     "output_type": "stream",
     "text": [
      "{'roc_auc': 0.903282803494552, 'accuracy': 0.8496852448948258, 'recall': 0.5768025078369906, 'precision': 0.7516339869281046}\n"
     ]
    }
   ],
   "source": [
    "train_and_test(opt_cat_lowess_num_logreg,X_display,y_display,'3',desc='opt_cat_lowess_num_logreg')"
   ]
  },
  {
   "cell_type": "code",
   "execution_count": 9,
   "metadata": {},
   "outputs": [
    {
     "name": "stderr",
     "output_type": "stream",
     "text": [
      "invalid value encountered in divide\n"
     ]
    },
    {
     "name": "stdout",
     "output_type": "stream",
     "text": [
      "{'roc_auc': 0.9031384294913063, 'accuracy': 0.8504529402732995, 'recall': 0.587460815047022, 'precision': 0.74780526735834}\n"
     ]
    }
   ],
   "source": [
    "opt_cat_spline_num_logreg=Pipeline([('opt',\n",
    "ColumnTransformer([\n",
    "     \n",
    "          (\"text_preprocess\", OptbinningScikit(),cat_cols),\n",
    "          ('num_process',LowessTransformer(fit_spline=True),num_cols)],\n",
    "      remainder='passthrough',verbose_feature_names_out=False)),\n",
    "      ('logreg',LogisticRegression())\n",
    "      ])\n",
    "\n",
    "train_and_test(opt_cat_spline_num_logreg,X_display,y_display,'3',desc='opt_cat_spline_num_logreg')"
   ]
  },
  {
   "cell_type": "code",
   "execution_count": 8,
   "metadata": {},
   "outputs": [
    {
     "name": "stderr",
     "output_type": "stream",
     "text": [
      "invalid value encountered in divide\n"
     ]
    },
    {
     "name": "stdout",
     "output_type": "stream",
     "text": [
      "{'roc_auc': 0.903282803494552, 'accuracy': 0.8496852448948258, 'recall': 0.5768025078369906, 'precision': 0.7516339869281046}\n"
     ]
    }
   ],
   "source": [
    "opt_cat_logit_spline_num_logreg=Pipeline([('opt',\n",
    "ColumnTransformer([\n",
    "     \n",
    "          (\"text_preprocess\", OptbinningScikit(),cat_cols),\n",
    "          ('num_process',LowessTransformer(use_logit=True,fit_spline=False),num_cols)],\n",
    "      remainder='passthrough',verbose_feature_names_out=False)),\n",
    "      ('logreg',LogisticRegression())\n",
    "      ])\n",
    "\n",
    "train_and_test(opt_cat_logit_spline_num_logreg,X_display,y_display,'3',desc='opt_cat_logit_spline_num_logreg')"
   ]
  },
  {
   "cell_type": "code",
   "execution_count": null,
   "metadata": {},
   "outputs": [],
   "source": []
  }
 ],
 "metadata": {
  "kernelspec": {
   "display_name": "Python 3.9.13 ('cycling_dev')",
   "language": "python",
   "name": "python3"
  },
  "language_info": {
   "codemirror_mode": {
    "name": "ipython",
    "version": 3
   },
   "file_extension": ".py",
   "mimetype": "text/x-python",
   "name": "python",
   "nbconvert_exporter": "python",
   "pygments_lexer": "ipython3",
   "version": "3.9.13"
  },
  "orig_nbformat": 4,
  "vscode": {
   "interpreter": {
    "hash": "f0fad5e4d1dc13d22312a1800e9dd4e4b476e4e2f86b11ac3d44fc1b62eaff0f"
   }
  }
 },
 "nbformat": 4,
 "nbformat_minor": 2
}
